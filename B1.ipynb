{
 "cells": [
  {
   "cell_type": "code",
   "execution_count": 1,
   "metadata": {},
   "outputs": [
    {
     "name": "stderr",
     "output_type": "stream",
     "text": [
      "Using TensorFlow backend.\n"
     ]
    }
   ],
   "source": [
    "import keras\n",
    "from keras.utils import to_categorical\n",
    "from keras.preprocessing import image\n",
    "import numpy as np\n",
    "import pandas as pd\n",
    "import matplotlib.pyplot as plt\n",
    "from sklearn.model_selection import train_test_split\n",
    "from keras.utils import to_categorical\n",
    "from tqdm import tqdm\n",
    "from sklearn import datasets, linear_model\n",
    "from sklearn.metrics import mean_squared_error, r2_score"
   ]
  },
  {
   "cell_type": "code",
   "execution_count": 2,
   "metadata": {},
   "outputs": [],
   "source": [
    "labels=pd.read_csv('Desktop/MACHINE LEARNING PROJECT/dataset_AMLS_19-20/cartoon_set/labels.csv',delimiter='\\t')\n",
    "shape_label=labels['face_shape']"
   ]
  },
  {
   "cell_type": "code",
   "execution_count": 3,
   "metadata": {},
   "outputs": [],
   "source": [
    "from imutils import face_utils\n",
    "import argparse\n",
    "import imutils\n",
    "import dlib\n",
    "import cv2"
   ]
  },
  {
   "cell_type": "code",
   "execution_count": 53,
   "metadata": {},
   "outputs": [
    {
     "name": "stderr",
     "output_type": "stream",
     "text": [
      "100%|██████████| 10000/10000 [5:16:29<00:00,  1.90s/it] \n"
     ]
    }
   ],
   "source": [
    "shapes=[]\n",
    "landmarks=[]\n",
    "other_marks=[]\n",
    "for i in tqdm(range(shape_label.shape[0])):\n",
    "    # initialize dlib's face detector (HOG-based) and then create\n",
    "    # the facial landmark predictor\n",
    "    detector = dlib.get_frontal_face_detector()\n",
    "    predictor = dlib.shape_predictor('Desktop/shape_predictor_68_face_landmarks.dat')\n",
    "    image = cv2.imread(\"Desktop/MACHINE LEARNING PROJECT/dataset_AMLS_19-20/cartoon_set/img/%d.png\" %i)\n",
    "    gray=cv2.cvtColor(image, cv2.COLOR_BGR2GRAY)\n",
    "    detections = detector(gray, 1)\n",
    "    for k,d in enumerate(detections): #For all detected face instances individually\n",
    "        shape = predictor(gray, d) #Draw Facial Landmarks with the predictor class\n",
    "        xylist = []\n",
    "        #ylist = []\n",
    "        for j in range(0,17): #Store X and Y coordinates in two lists for jaw region\n",
    "            xylist.append(float(shape.part(j).x))\n",
    "            xylist.append(float(shape.part(j).y))\n",
    "        if len(xylist)==34:\n",
    "            landmarks.append(xylist)\n",
    "            #landmarks.append(y)\n",
    "            shapes.append(shape_label[i])\n",
    "        xylist = []\n",
    "        for k in range(17,68):\n",
    "            xylist.append(float(shape.part(k).x))\n",
    "            xylist.append(float(shape.part(k).y))\n",
    "        if len(xylist)==102:\n",
    "            other_marks.append(xylist)\n",
    "\n",
    "        else: #If no faces are detected, return error message to other function to handle\n",
    "            pass"
   ]
  },
  {
   "cell_type": "code",
   "execution_count": 298,
   "metadata": {},
   "outputs": [],
   "source": [
    "k=len(landmarks)\n",
    "X=np.zeros((k,34))\n",
    "for i in range(k):\n",
    "    X[i][0:34]=landmarks[i][0:34]\n",
    "    "
   ]
  },
  {
   "cell_type": "code",
   "execution_count": 299,
   "metadata": {},
   "outputs": [
    {
     "data": {
      "text/plain": [
       "8090"
      ]
     },
     "execution_count": 299,
     "metadata": {},
     "output_type": "execute_result"
    }
   ],
   "source": [
    "k"
   ]
  },
  {
   "cell_type": "code",
   "execution_count": 300,
   "metadata": {},
   "outputs": [],
   "source": [
    "a=0\n",
    "b=0\n",
    "c=0\n",
    "d=0\n",
    "e=0\n",
    "X0=np.zeros((k,34))\n",
    "X1=np.zeros((k,34))\n",
    "X2=np.zeros((k,34))\n",
    "X3=np.zeros((k,34))\n",
    "X4=np.zeros((k,34))\n",
    "for i in range (k):\n",
    "    if shapes[i]==0:\n",
    "        X0[a][0:34]=X[i][0:34]\n",
    "        a=a+1\n",
    "    elif shapes[i]==1:\n",
    "        X1[b][0:34]=X[i][0:34]\n",
    "        b=b+1\n",
    "    elif shapes[i]==2:\n",
    "        X2[c][0:34]=X[i][0:34]\n",
    "        c=c+1\n",
    "    elif shapes[i]==3:\n",
    "        X3[d][0:34]=X[i][0:34]\n",
    "        d=d+1\n",
    "    elif shapes[i]==4:\n",
    "        X4[e][0:34]=X[i][0:34]\n",
    "        e=e+1\n",
    "\n",
    "X0=X0[~(X0==0).all(1)]\n",
    "X1=X1[~(X1==0).all(1)]\n",
    "X2=X2[~(X2==0).all(1)]\n",
    "X3=X3[~(X3==0).all(1)]\n",
    "X4=X4[~(X4==0).all(1)]"
   ]
  },
  {
   "cell_type": "code",
   "execution_count": 341,
   "metadata": {},
   "outputs": [
    {
     "data": {
      "text/plain": [
       "array([0, 1, 2, 3, 4])"
      ]
     },
     "execution_count": 341,
     "metadata": {},
     "output_type": "execute_result"
    }
   ],
   "source": [
    "np.unique(shapes)"
   ]
  },
  {
   "cell_type": "code",
   "execution_count": 416,
   "metadata": {},
   "outputs": [
    {
     "name": "stdout",
     "output_type": "stream",
     "text": [
      "1\n",
      "1471\n",
      "1\n",
      "1459\n",
      "1\n",
      "1605\n",
      "1\n",
      "1532\n",
      "1\n",
      "1482\n"
     ]
    }
   ],
   "source": [
    "from sklearn.cluster import DBSCAN\n",
    "from sklearn.preprocessing import StandardScaler\n",
    "faces=[0,1,2,3,4]\n",
    "Xn=[X0,X1,X2,X3,X4]\n",
    "A=[]\n",
    "n_labs=[]\n",
    "for face in faces:\n",
    "    stscaler = StandardScaler().fit(Xn[face])\n",
    "    data = stscaler.transform(Xn[face])\n",
    "    dbscan = DBSCAN(eps = 4 , min_samples = 10)\n",
    "    model=dbscan.fit(data)\n",
    "    labels=model.labels_\n",
    "    core_samples_mask = np.zeros_like(model.labels_, dtype=bool) \n",
    "    core_samples_mask[model.core_sample_indices_] = True\n",
    "    #print(core_samples)\n",
    "    n_clusters=len(set(labels))-(1 if -1 in labels else 0)\n",
    "    print(n_clusters)\n",
    "    labels1=[x for x in labels if x!=-1]\n",
    "    class_member_mask = (labels == 0) \n",
    "    A.append(Xn[face][class_member_mask & core_samples_mask])    \n",
    "    A.append(Xn[face][class_member_mask & ~core_samples_mask])\n",
    "    n_labs.append(len(labels1))\n",
    "    print(len(labels1))\n",
    "    "
   ]
  },
  {
   "cell_type": "code",
   "execution_count": 419,
   "metadata": {},
   "outputs": [
    {
     "data": {
      "text/plain": [
       "(80, 34)"
      ]
     },
     "execution_count": 419,
     "metadata": {},
     "output_type": "execute_result"
    }
   ],
   "source": [
    "A=np.asarray(A)\n",
    "Ak=A[3]\n",
    "Ak.shape"
   ]
  },
  {
   "cell_type": "code",
   "execution_count": 426,
   "metadata": {},
   "outputs": [],
   "source": [
    "k=np.sum(n_labs)\n",
    "X_new=np.zeros((k,35))\n",
    "i=0\n",
    "j=0\n",
    "for lab in n_labs:\n",
    "    X_new[i:i+lab,0]=int(j/2)\n",
    "    Am=A[j]\n",
    "    An=A[j+1]\n",
    "    p=A[j].shape[0]\n",
    "    for m in range(lab):\n",
    "        for n in range(34):\n",
    "            try:\n",
    "                X_new[i+m][n+1]=Am[m][n]\n",
    "            except:\n",
    "                X_new[i+m][n+1]=An[m-p][n]\n",
    "    j=j+2\n",
    "    i=i+lab"
   ]
  },
  {
   "cell_type": "code",
   "execution_count": 427,
   "metadata": {},
   "outputs": [],
   "source": [
    "np.random.shuffle(X_new)"
   ]
  },
  {
   "cell_type": "code",
   "execution_count": 428,
   "metadata": {},
   "outputs": [
    {
     "data": {
      "text/plain": [
       "array([[  0., 156., 239., ..., 267., 343., 243.],\n",
       "       [  4., 165., 258., ..., 280., 333., 259.],\n",
       "       [  0., 158., 255., ..., 278., 339., 255.],\n",
       "       ...,\n",
       "       [  1., 160., 251., ..., 275., 336., 253.],\n",
       "       [  2., 162., 240., ..., 264., 335., 242.],\n",
       "       [  0., 164., 266., ..., 287., 333., 267.]])"
      ]
     },
     "execution_count": 428,
     "metadata": {},
     "output_type": "execute_result"
    }
   ],
   "source": [
    "X_new"
   ]
  },
  {
   "cell_type": "code",
   "execution_count": 429,
   "metadata": {},
   "outputs": [],
   "source": [
    "y=np.zeros(k)\n",
    "x=np.zeros((k,34))\n",
    "for i in range(X_new.shape[0]):\n",
    "    y[i]=X_new[i][0]\n",
    "    x[i,0:34]=X_new[i,1:35]\n",
    "    \n",
    "    "
   ]
  },
  {
   "cell_type": "code",
   "execution_count": 430,
   "metadata": {},
   "outputs": [
    {
     "data": {
      "text/plain": [
       "array([0., 1., 2., 3., 4.])"
      ]
     },
     "execution_count": 430,
     "metadata": {},
     "output_type": "execute_result"
    }
   ],
   "source": [
    "np.unique(y)"
   ]
  },
  {
   "cell_type": "code",
   "execution_count": 431,
   "metadata": {},
   "outputs": [],
   "source": [
    "X_train, X_test, y_train, y_test = train_test_split(x, y, random_state=42, test_size=0.3)"
   ]
  },
  {
   "cell_type": "code",
   "execution_count": 432,
   "metadata": {},
   "outputs": [],
   "source": [
    "from sklearn import svm, datasets\n",
    "from sklearn.svm import SVC\n",
    "from sklearn.utils import shuffle\n",
    "from sklearn.metrics import classification_report,accuracy_score\n",
    "from sklearn.preprocessing import MinMaxScaler\n",
    "from sklearn.preprocessing import StandardScaler\n",
    "from sklearn.model_selection import StratifiedShuffleSplit\n",
    "from sklearn.model_selection import GridSearchCV"
   ]
  },
  {
   "cell_type": "code",
   "execution_count": 433,
   "metadata": {},
   "outputs": [],
   "source": [
    "scaler = MinMaxScaler() # This estimator scales and translates each feature individually such that it is in the given range on the training set, default between(0,1)\n",
    "X_train = scaler.fit_transform(X_train)\n",
    "X_test = scaler.transform(X_test)"
   ]
  },
  {
   "cell_type": "code",
   "execution_count": 434,
   "metadata": {},
   "outputs": [
    {
     "name": "stdout",
     "output_type": "stream",
     "text": [
      "Best score: 0.8088569265707797\n"
     ]
    }
   ],
   "source": [
    "hyper_para=[{'kernel':['rbf'],'gamma':[0.001, 0.01, 0.1, 1, 10 ,100],'C':[0.001, 0.01, 0.1, 1, 10 ,100,1000]}]\n",
    "clf = GridSearchCV(estimator=svm.SVC(), param_grid=hyper_para,cv=5, n_jobs=-1)\n",
    "clf.fit(X_train,y_train)\n",
    "print('Best score:', clf.best_score_) "
   ]
  },
  {
   "cell_type": "code",
   "execution_count": 435,
   "metadata": {},
   "outputs": [
    {
     "name": "stdout",
     "output_type": "stream",
     "text": [
      "Best C: 10\n",
      "Best Gamma: 1\n"
     ]
    }
   ],
   "source": [
    "print('Best C:',clf.best_estimator_.C) \n",
    "print('Best Gamma:',clf.best_estimator_.gamma)"
   ]
  },
  {
   "cell_type": "code",
   "execution_count": 436,
   "metadata": {},
   "outputs": [
    {
     "data": {
      "image/png": "[encoded data removed]",
      "text/plain": [
       "<Figure size 432x288 with 1 Axes>"
      ]
     },
     "metadata": {
      "needs_background": "light"
     },
     "output_type": "display_data"
    }
   ],
   "source": [
    "from sklearn.model_selection import learning_curve\n",
    "train_sizes, train_scores, test_scores = learning_curve(svm.SVC(C=10,kernel='rbf',gamma=1), \n",
    "                                                        X_train, \n",
    "                                                        y_train,\n",
    "                                                        # Number of folds in cross-validation\n",
    "                                                        cv=5,\n",
    "                                                        # Evaluation metric\n",
    "                                                        scoring='accuracy',\n",
    "                                                        # Use all computer cores\n",
    "                                                        n_jobs=-1, \n",
    "                                                        # 10 different sizes of the training set\n",
    "                                                        train_sizes=np.linspace(0.01, 1.0, 10))\n",
    "# Create means and standard deviations of training set scores\n",
    "train_mean = np.mean(train_scores, axis=1)\n",
    "train_std = np.std(train_scores, axis=1)\n",
    "\n",
    "# Create means and standard deviations of test set scores\n",
    "test_mean = np.mean(test_scores, axis=1)\n",
    "test_std = np.std(test_scores, axis=1)\n",
    "\n",
    "# Draw lines\n",
    "plt.plot(train_sizes, train_mean, '--', color=\"#111111\",  label=\"Training score\")\n",
    "plt.plot(train_sizes, test_mean, color=\"#111111\", label=\"Cross-validation score\")\n",
    "\n",
    "# Create plot\n",
    "plt.title(\"Learning Curve\")\n",
    "plt.xlabel(\"Training Set Size\"), plt.ylabel(\"Accuracy Score\"), plt.legend(loc=\"best\")\n",
    "plt.tight_layout()\n",
    "plt.show()"
   ]
  },
  {
   "cell_type": "code",
   "execution_count": 437,
   "metadata": {},
   "outputs": [
    {
     "name": "stdout",
     "output_type": "stream",
     "text": [
      "0.8211920529801324\n"
     ]
    }
   ],
   "source": [
    "#SVM classifier \n",
    "def SVM(x_train,y_train, x_test):\n",
    "    model = svm.SVC(C=10,kernel='rbf',gamma=1)\n",
    "    model.fit(x_train,y_train)\n",
    "    y_pred = model.predict(x_test)\n",
    "    return y_pred\n",
    "# Scikit learn library results\n",
    "y_pred=SVM(X_train,y_train, X_test)\n",
    "print(accuracy_score(y_test,y_pred))"
   ]
  },
  {
   "cell_type": "code",
   "execution_count": 438,
   "metadata": {},
   "outputs": [
    {
     "name": "stderr",
     "output_type": "stream",
     "text": [
      "/Users/aiswarya/opt/anaconda3/lib/python3.7/site-packages/sklearn/linear_model/logistic.py:469: FutureWarning: Default multi_class will be changed to 'auto' in 0.22. Specify the multi_class option to silence this warning.\n",
      "  \"this warning.\", FutureWarning)\n",
      "/Users/aiswarya/opt/anaconda3/lib/python3.7/site-packages/sklearn/linear_model/logistic.py:947: ConvergenceWarning: lbfgs failed to converge. Increase the number of iterations.\n",
      "  \"of iterations.\", ConvergenceWarning)\n"
     ]
    },
    {
     "name": "stdout",
     "output_type": "stream",
     "text": [
      "Accuracy on test set: 0.7094922737306844\n"
     ]
    },
    {
     "name": "stderr",
     "output_type": "stream",
     "text": [
      "/Users/aiswarya/opt/anaconda3/lib/python3.7/site-packages/sklearn/linear_model/logistic.py:947: ConvergenceWarning: lbfgs failed to converge. Increase the number of iterations.\n",
      "  \"of iterations.\", ConvergenceWarning)\n"
     ]
    }
   ],
   "source": []
  },
  {
   "cell_type": "code",
   "execution_count": 282,
   "metadata": {},
   "outputs": [
    {
     "name": "stdout",
     "output_type": "stream",
     "text": [
      "Accuracy on test set: 1.0\n"
     ]
    }
   ],
   "source": []
  },
  {
   "cell_type": "code",
   "execution_count": 283,
   "metadata": {},
   "outputs": [
    {
     "name": "stdout",
     "output_type": "stream",
     "text": [
      "Accuracy on test set: 1.0\n"
     ]
    },
    {
     "name": "stderr",
     "output_type": "stream",
     "text": [
      "/Users/aiswarya/opt/anaconda3/lib/python3.7/site-packages/sklearn/ensemble/forest.py:245: FutureWarning: The default value of n_estimators will change from 10 in version 0.20 to 100 in 0.22.\n",
      "  \"10 in version 0.20 to 100 in 0.22.\", FutureWarning)\n",
      "/Users/aiswarya/opt/anaconda3/lib/python3.7/site-packages/ipykernel_launcher.py:4: DataConversionWarning: A column-vector y was passed when a 1d array was expected. Please change the shape of y to (n_samples,), for example using ravel().\n",
      "  after removing the cwd from sys.path.\n"
     ]
    }
   ],
   "source": []
  },
  {
   "cell_type": "code",
   "execution_count": null,
   "metadata": {},
   "outputs": [],
   "source": []
  }
 ],
 "metadata": {
  "kernelspec": {
   "display_name": "Python 3",
   "language": "python",
   "name": "python3"
  },
  "language_info": {
   "codemirror_mode": {
    "name": "ipython",
    "version": 3
   },
   "file_extension": ".py",
   "mimetype": "text/x-python",
   "name": "python",
   "nbconvert_exporter": "python",
   "pygments_lexer": "ipython3",
   "version": "3.7.4"
  }
 },
 "nbformat": 4,
 "nbformat_minor": 4
}
