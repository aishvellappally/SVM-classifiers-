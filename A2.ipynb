{
 "cells": [
  {
   "cell_type": "code",
   "execution_count": 1,
   "metadata": {},
   "outputs": [
    {
     "name": "stderr",
     "output_type": "stream",
     "text": [
      "Using TensorFlow backend.\n"
     ]
    }
   ],
   "source": [
    "import keras\n",
    "from keras.utils import to_categorical\n",
    "from keras.preprocessing import image\n",
    "import numpy as np\n",
    "import pandas as pd\n",
    "import matplotlib.pyplot as plt\n",
    "from sklearn.model_selection import train_test_split\n",
    "from keras.utils import to_categorical\n",
    "from tqdm import tqdm\n",
    "from sklearn import datasets, linear_model\n",
    "from sklearn.metrics import mean_squared_error, r2_score"
   ]
  },
  {
   "cell_type": "code",
   "execution_count": 2,
   "metadata": {},
   "outputs": [],
   "source": [
    "labels=pd.read_csv('Desktop/MACHINE LEARNING PROJECT/dataset_AMLS_19-20/celeba/labels.csv',delimiter='\\t') #reads the data set containing gender labels"
   ]
  },
  {
   "cell_type": "code",
   "execution_count": 22,
   "metadata": {},
   "outputs": [
    {
     "data": {
      "text/plain": [
       "array([-1,  1])"
      ]
     },
     "execution_count": 22,
     "metadata": {},
     "output_type": "execute_result"
    }
   ],
   "source": [
    "smile_label=labels['smiling'] #extracts only smiling label column"
   ]
  },
  {
   "cell_type": "code",
   "execution_count": 4,
   "metadata": {},
   "outputs": [],
   "source": [
    "from imutils import face_utils\n",
    "import argparse\n",
    "import imutils\n",
    "import dlib\n",
    "import cv2"
   ]
  },
  {
   "cell_type": "code",
   "execution_count": 25,
   "metadata": {},
   "outputs": [
    {
     "name": "stderr",
     "output_type": "stream",
     "text": [
      "100%|██████████| 5000/5000 [2:09:27<00:00,  1.55s/it]  \n"
     ]
    }
   ],
   "source": [
    "smile=[]\n",
    "landmarks=[]\n",
    "for i in tqdm(range(smile_label.shape[0])):\n",
    "    # initialize dlib's face detector (HOG-based) and then create\n",
    "    # the facial landmark predictor\n",
    "    detector = dlib.get_frontal_face_detector()\n",
    "    predictor = dlib.shape_predictor('Desktop/shape_predictor_68_face_landmarks.dat')\n",
    "    image = cv2.imread(\"Desktop/MACHINE LEARNING PROJECT/dataset_AMLS_19-20/celeba/img/%d.jpg\" %i)\n",
    "    gray=cv2.cvtColor(image, cv2.COLOR_BGR2GRAY)\n",
    "    detections = detector(gray, 1)\n",
    "    for k,d in enumerate(detections): #For all detected face instances individually\n",
    "        shape = predictor(gray, d) #Draw Facial Landmarks with the predictor class\n",
    "        xylist = []\n",
    "        #ylist = []\n",
    "        for j in range(48,68): #Store X and Y coordinates in two lists for mouth region\n",
    "            xylist.append(float(shape.part(j).x))\n",
    "            xylist.append(float(shape.part(j).y))\n",
    "        if len(xylist)==40:\n",
    "            landmarks.append(xylist)\n",
    "            smile.append(smile_label[i]) \n",
    "        else: #If no faces are detected, return error message to other function to handle\n",
    "            pass\n",
    "            "
   ]
  },
  {
   "cell_type": "code",
   "execution_count": 124,
   "metadata": {},
   "outputs": [
    {
     "data": {
      "text/plain": [
       "4822"
      ]
     },
     "execution_count": 124,
     "metadata": {},
     "output_type": "execute_result"
    }
   ],
   "source": [
    "k=len(landmarks)\n",
    "X=np.zeros((k,40))\n",
    "for i in range(k):\n",
    "    X[i][0:40]=landmarks[i][0:40]\n",
    "\n",
    "k"
   ]
  },
  {
   "cell_type": "code",
   "execution_count": 125,
   "metadata": {},
   "outputs": [],
   "source": [
    "#MAR\n",
    "Xd=np.zeros(k)\n",
    "for i in range(k):\n",
    "    p1=(X[i][0],X[i][1])\n",
    "    p2=(X[i][12],X[i][13])\n",
    "    p3=(X[i][4],X[i][5])\n",
    "    p4=(X[i][20],X[i][21])\n",
    "    p5=(X[i][6],X[i][7])\n",
    "    p6=(X[i][18],X[i][19])\n",
    "    p7=(X[i][8],X[i][9])\n",
    "    p8=(X[i][16],X[i][17])\n",
    "    a1=np.sqrt((p1[0]-p2[0])**2+(p1[1]-p2[1])**2)\n",
    "    a2=np.sqrt((p3[0]-p4[0])**2+(p3[1]-p4[1])**2)\n",
    "    a3=np.sqrt((p5[0]-p6[0])**2+(p5[1]-p6[1])**2)\n",
    "    a4=np.sqrt((p7[0]-p8[0])**2+(p7[1]-p8[1])**2)\n",
    "    d=float((a2+a3+a4)/(3*a1))\n",
    "    Xd[i]=d\n",
    "    "
   ]
  },
  {
   "cell_type": "code",
   "execution_count": 117,
   "metadata": {},
   "outputs": [
    {
     "data": {
      "text/plain": [
       "array([ 20.,  21.,  22.,  24.,  25.,  26.,  27.,  28.,  29.,  30.,  31.,\n",
       "        55.,  58.,  59.,  60.,  61.,  62.,  63.,  64.,  65.,  66.,  67.,\n",
       "        68.,  69.,  70.,  71.,  72.,  73.,  74.,  75.,  76.,  77.,  78.,\n",
       "        79.,  80.,  81.,  82.,  83.,  84.,  85.,  86.,  87.,  88.,  89.,\n",
       "        90.,  91.,  92.,  93.,  94.,  95.,  96.,  97.,  98.,  99., 100.,\n",
       "       101., 102., 103., 104., 105., 106., 107., 108., 109., 110., 111.,\n",
       "       112., 113., 114., 115., 116., 118., 119., 121., 131., 132., 133.,\n",
       "       134., 135., 136., 137., 138., 139., 140., 141., 142., 143., 144.,\n",
       "       145., 146., 147., 148., 149., 150., 151., 152., 153., 154., 155.,\n",
       "       156., 157., 158., 159., 160., 161., 162., 163., 164., 165., 166.,\n",
       "       167., 168., 169., 170., 171., 172., 173., 174., 175., 176., 177.,\n",
       "       178., 179., 180., 181., 182., 183., 184., 185., 186., 188., 189.,\n",
       "       190., 191., 197., 198.])"
      ]
     },
     "execution_count": 117,
     "metadata": {},
     "output_type": "execute_result"
    }
   ],
   "source": [
    "np.unique(X)"
   ]
  },
  {
   "cell_type": "code",
   "execution_count": 127,
   "metadata": {},
   "outputs": [],
   "source": [
    "#LANDMARKS + MAR \n",
    "Xn=np.zeros((k,41))\n",
    "for i in range(k):\n",
    "    Xn[i][0:40]=landmarks[i][0:40]\n",
    "    Xn[i][40]=Xd[i]"
   ]
  },
  {
   "cell_type": "code",
   "execution_count": 131,
   "metadata": {},
   "outputs": [],
   "source": [
    "X_train, X_test, y_train, y_test = train_test_split(Xn, smile, random_state=42, test_size=0.25)"
   ]
  },
  {
   "cell_type": "code",
   "execution_count": 132,
   "metadata": {},
   "outputs": [],
   "source": [
    "from sklearn import svm, datasets\n",
    "from sklearn.svm import SVC\n",
    "from sklearn.utils import shuffle\n",
    "from sklearn.metrics import classification_report,accuracy_score\n",
    "from sklearn.preprocessing import MinMaxScaler\n",
    "from sklearn.preprocessing import StandardScaler\n",
    "from sklearn.model_selection import StratifiedShuffleSplit\n",
    "from sklearn.model_selection import GridSearchCV\n"
   ]
  },
  {
   "cell_type": "code",
   "execution_count": 133,
   "metadata": {},
   "outputs": [],
   "source": [
    "scaler = MinMaxScaler() # This estimator scales and translates each feature individually such that it is in the given range on the training set, default between(0,1)\n",
    "X_train = scaler.fit_transform(X_train)\n",
    "X_test = scaler.transform(X_test)"
   ]
  },
  {
   "cell_type": "code",
   "execution_count": 134,
   "metadata": {},
   "outputs": [
    {
     "name": "stdout",
     "output_type": "stream",
     "text": [
      "Best score: 0.8816371681415929\n"
     ]
    }
   ],
   "source": [
    "hyper_para=[{'kernel':['rbf'],'gamma':[0.001, 0.01, 0.1, 1, 10 ,100],'C':[0.001, 0.01, 0.1, 1, 10 ,100,1000]}]\n",
    "clf = GridSearchCV(estimator=svm.SVC(), param_grid=hyper_para,cv=5, n_jobs=-1)\n",
    "clf.fit(X_train,y_train)\n",
    "print('Best score:', clf.best_score_) \n"
   ]
  },
  {
   "cell_type": "code",
   "execution_count": 135,
   "metadata": {},
   "outputs": [
    {
     "name": "stdout",
     "output_type": "stream",
     "text": [
      "Best C: 100\n",
      "Best Gamma: 1\n"
     ]
    }
   ],
   "source": [
    "print('Best C:',clf.best_estimator_.C) \n",
    "print('Best Gamma:',clf.best_estimator_.gamma)"
   ]
  },
  {
   "cell_type": "code",
   "execution_count": 139,
   "metadata": {},
   "outputs": [],
   "source": [
    "from sklearn.model_selection import learning_curve\n",
    "train_sizes, train_scores, test_scores = learning_curve(svm.SVC(C=100,kernel='rbf',gamma=1), \n",
    "                                                        X_train, \n",
    "                                                        y_train,\n",
    "                                                        # Number of folds in cross-validation\n",
    "                                                        cv=5,\n",
    "                                                        # Evaluation metric\n",
    "                                                        scoring='accuracy',\n",
    "                                                        # Use all computer cores\n",
    "                                                        n_jobs=-1, \n",
    "                                                        # 10 different sizes of the training set\n",
    "                                                        train_sizes=np.linspace(0.01, 1.0, 10))"
   ]
  },
  {
   "cell_type": "code",
   "execution_count": 140,
   "metadata": {},
   "outputs": [
    {
     "data": {
      "image/png": "[encoded data removed]",
      "text/plain": [
       "<Figure size 432x288 with 1 Axes>"
      ]
     },
     "metadata": {
      "needs_background": "light"
     },
     "output_type": "display_data"
    }
   ],
   "source": [
    "# Create means and standard deviations of training set scores\n",
    "train_mean = np.mean(train_scores, axis=1)\n",
    "train_std = np.std(train_scores, axis=1)\n",
    "\n",
    "# Create means and standard deviations of test set scores\n",
    "test_mean = np.mean(test_scores, axis=1)\n",
    "test_std = np.std(test_scores, axis=1)\n",
    "\n",
    "# Draw lines\n",
    "plt.plot(train_sizes, train_mean, '--', color=\"#111111\",  label=\"Training score\")\n",
    "plt.plot(train_sizes, test_mean, color=\"#111111\", label=\"Cross-validation score\")\n",
    "\n",
    "# Create plot\n",
    "plt.title(\"Learning Curve\")\n",
    "plt.xlabel(\"Training Set Size\"), plt.ylabel(\"Accuracy Score\"), plt.legend(loc=\"best\")\n",
    "plt.tight_layout()\n",
    "plt.show()"
   ]
  },
  {
   "cell_type": "code",
   "execution_count": 136,
   "metadata": {},
   "outputs": [
    {
     "name": "stdout",
     "output_type": "stream",
     "text": [
      "0.8880597014925373\n"
     ]
    }
   ],
   "source": [
    "#SVM classifier \n",
    "def SVM(x_train,y_train, x_test):\n",
    "    model = svm.SVC(C=100,kernel='rbf',gamma=1)\n",
    "    model.fit(x_train,y_train)\n",
    "    y_pred = model.predict(x_test)\n",
    "    return y_pred\n",
    "# Scikit learn library results\n",
    "y_pred=SVM(X_train,y_train, X_test)\n",
    "print(accuracy_score(y_test,y_pred))"
   ]
  },
  {
   "cell_type": "code",
   "execution_count": 105,
   "metadata": {},
   "outputs": [
    {
     "name": "stdout",
     "output_type": "stream",
     "text": [
      "Accuracy on test set: 0.8797678275290216\n"
     ]
    }
   ],
   "source": [
    "#Logistic regression classifier\n",
    "from sklearn.linear_model import LogisticRegression\n",
    "# sklearn functions implementation\n",
    "def logRegrPredict(x_train, y_train,xtest ):\n",
    "    # Build Logistic Regression Model\n",
    "    logreg = LogisticRegression(solver='lbfgs')\n",
    "    # Train the model using the training sets\n",
    "    logreg.fit(x_train, y_train)\n",
    "    y_pred= logreg.predict(xtest)\n",
    "    #print('Accuracy on test set: {:.2f}'.format(logreg.score(x_test, y_test)))\n",
    "    return y_pred\n",
    "\n",
    "y_pred = logRegrPredict(X_train, y_train,X_test)\n",
    "print('Accuracy on test set: '+str(accuracy_score(y_test,y_pred)))"
   ]
  },
  {
   "cell_type": "code",
   "execution_count": null,
   "metadata": {},
   "outputs": [],
   "source": []
  }
 ],
 "metadata": {
  "kernelspec": {
   "display_name": "Python 3",
   "language": "python",
   "name": "python3"
  },
  "language_info": {
   "codemirror_mode": {
    "name": "ipython",
    "version": 3
   },
   "file_extension": ".py",
   "mimetype": "text/x-python",
   "name": "python",
   "nbconvert_exporter": "python",
   "pygments_lexer": "ipython3",
   "version": "3.7.4"
  }
 },
 "nbformat": 4,
 "nbformat_minor": 4
}
